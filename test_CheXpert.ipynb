{
 "metadata": {
  "language_info": {
   "codemirror_mode": {
    "name": "ipython",
    "version": 3
   },
   "file_extension": ".py",
   "mimetype": "text/x-python",
   "name": "python",
   "nbconvert_exporter": "python",
   "pygments_lexer": "ipython3",
   "version": "3.8.5-final"
  },
  "orig_nbformat": 2,
  "kernelspec": {
   "name": "python38564bitcupyconda41f788893a5d43e79f54915e929b8899",
   "display_name": "Python 3.8.5 64-bit ('cupy': conda)",
   "language": "python"
  }
 },
 "nbformat": 4,
 "nbformat_minor": 2,
 "cells": [
  {
   "cell_type": "code",
   "execution_count": 7,
   "metadata": {
    "tags": []
   },
   "outputs": [],
   "source": [
    "from pathlib import Path\n",
    "import pandas as pd"
   ]
  },
  {
   "cell_type": "code",
   "execution_count": 8,
   "metadata": {},
   "outputs": [
    {
     "output_type": "execute_result",
     "data": {
      "text/plain": [
       "                                                Path     Sex  Age  \\\n",
       "0  CheXpert-v1.0-small/train/patient00001/study1/...  Female   68   \n",
       "1  CheXpert-v1.0-small/train/patient00002/study2/...  Female   87   \n",
       "2  CheXpert-v1.0-small/train/patient00002/study1/...  Female   83   \n",
       "3  CheXpert-v1.0-small/train/patient00002/study1/...  Female   83   \n",
       "4  CheXpert-v1.0-small/train/patient00003/study1/...    Male   41   \n",
       "\n",
       "  Frontal/Lateral AP/PA No Finding Enlarged Cardiomediastinum Cardiomegaly  \\\n",
       "0         Frontal    AP          1                        nan          nan   \n",
       "1         Frontal    AP        nan                        nan           -1   \n",
       "2         Frontal    AP        nan                        nan          nan   \n",
       "3         Lateral   nan        nan                        nan          nan   \n",
       "4         Frontal    AP        nan                        nan          nan   \n",
       "\n",
       "  Lung Opacity Lung Lesion Edema Consolidation Pneumonia Atelectasis  \\\n",
       "0          nan         nan   nan           nan       nan         nan   \n",
       "1            1         nan    -1            -1       nan          -1   \n",
       "2            1         nan   nan            -1       nan         nan   \n",
       "3            1         nan   nan            -1       nan         nan   \n",
       "4          nan         nan     1           nan       nan         nan   \n",
       "\n",
       "  Pneumothorax Pleural Effusion Pleural Other Fracture Support Devices  \n",
       "0            0              nan           nan      nan               1  \n",
       "1          nan               -1           nan        1             nan  \n",
       "2          nan              nan           nan        1             nan  \n",
       "3          nan              nan           nan        1             nan  \n",
       "4            0              nan           nan      nan             nan  "
      ],
      "text/html": "<div>\n<style scoped>\n    .dataframe tbody tr th:only-of-type {\n        vertical-align: middle;\n    }\n\n    .dataframe tbody tr th {\n        vertical-align: top;\n    }\n\n    .dataframe thead th {\n        text-align: right;\n    }\n</style>\n<table border=\"1\" class=\"dataframe\">\n  <thead>\n    <tr style=\"text-align: right;\">\n      <th></th>\n      <th>Path</th>\n      <th>Sex</th>\n      <th>Age</th>\n      <th>Frontal/Lateral</th>\n      <th>AP/PA</th>\n      <th>No Finding</th>\n      <th>Enlarged Cardiomediastinum</th>\n      <th>Cardiomegaly</th>\n      <th>Lung Opacity</th>\n      <th>Lung Lesion</th>\n      <th>Edema</th>\n      <th>Consolidation</th>\n      <th>Pneumonia</th>\n      <th>Atelectasis</th>\n      <th>Pneumothorax</th>\n      <th>Pleural Effusion</th>\n      <th>Pleural Other</th>\n      <th>Fracture</th>\n      <th>Support Devices</th>\n    </tr>\n  </thead>\n  <tbody>\n    <tr>\n      <th>0</th>\n      <td>CheXpert-v1.0-small/train/patient00001/study1/...</td>\n      <td>Female</td>\n      <td>68</td>\n      <td>Frontal</td>\n      <td>AP</td>\n      <td>1</td>\n      <td>nan</td>\n      <td>nan</td>\n      <td>nan</td>\n      <td>nan</td>\n      <td>nan</td>\n      <td>nan</td>\n      <td>nan</td>\n      <td>nan</td>\n      <td>0</td>\n      <td>nan</td>\n      <td>nan</td>\n      <td>nan</td>\n      <td>1</td>\n    </tr>\n    <tr>\n      <th>1</th>\n      <td>CheXpert-v1.0-small/train/patient00002/study2/...</td>\n      <td>Female</td>\n      <td>87</td>\n      <td>Frontal</td>\n      <td>AP</td>\n      <td>nan</td>\n      <td>nan</td>\n      <td>-1</td>\n      <td>1</td>\n      <td>nan</td>\n      <td>-1</td>\n      <td>-1</td>\n      <td>nan</td>\n      <td>-1</td>\n      <td>nan</td>\n      <td>-1</td>\n      <td>nan</td>\n      <td>1</td>\n      <td>nan</td>\n    </tr>\n    <tr>\n      <th>2</th>\n      <td>CheXpert-v1.0-small/train/patient00002/study1/...</td>\n      <td>Female</td>\n      <td>83</td>\n      <td>Frontal</td>\n      <td>AP</td>\n      <td>nan</td>\n      <td>nan</td>\n      <td>nan</td>\n      <td>1</td>\n      <td>nan</td>\n      <td>nan</td>\n      <td>-1</td>\n      <td>nan</td>\n      <td>nan</td>\n      <td>nan</td>\n      <td>nan</td>\n      <td>nan</td>\n      <td>1</td>\n      <td>nan</td>\n    </tr>\n    <tr>\n      <th>3</th>\n      <td>CheXpert-v1.0-small/train/patient00002/study1/...</td>\n      <td>Female</td>\n      <td>83</td>\n      <td>Lateral</td>\n      <td>nan</td>\n      <td>nan</td>\n      <td>nan</td>\n      <td>nan</td>\n      <td>1</td>\n      <td>nan</td>\n      <td>nan</td>\n      <td>-1</td>\n      <td>nan</td>\n      <td>nan</td>\n      <td>nan</td>\n      <td>nan</td>\n      <td>nan</td>\n      <td>1</td>\n      <td>nan</td>\n    </tr>\n    <tr>\n      <th>4</th>\n      <td>CheXpert-v1.0-small/train/patient00003/study1/...</td>\n      <td>Male</td>\n      <td>41</td>\n      <td>Frontal</td>\n      <td>AP</td>\n      <td>nan</td>\n      <td>nan</td>\n      <td>nan</td>\n      <td>nan</td>\n      <td>nan</td>\n      <td>1</td>\n      <td>nan</td>\n      <td>nan</td>\n      <td>nan</td>\n      <td>0</td>\n      <td>nan</td>\n      <td>nan</td>\n      <td>nan</td>\n      <td>nan</td>\n    </tr>\n  </tbody>\n</table>\n</div>"
     },
     "metadata": {},
     "execution_count": 8
    }
   ],
   "source": [
    "data_path = Path('/home/432/qihaoyu/data/CheXpert/CheXpert-v1.0-small')\n",
    "data = pd.read_csv(data_path/'train.csv')\n",
    "data = data.fillna('nan')\n",
    "data.head()\n"
   ]
  },
  {
   "cell_type": "code",
   "execution_count": 3,
   "metadata": {},
   "outputs": [],
   "source": [
    "data.set_index('Path',inplace=True)\n",
    "# sampled.set_index('Path',inplace=True)"
   ]
  },
  {
   "cell_type": "code",
   "execution_count": 5,
   "metadata": {},
   "outputs": [
    {
     "output_type": "stream",
     "name": "stdout",
     "text": [
      "Atelectasis\nCardiomegaly\nConsolidation\nEdema\nPleural Effusion\n"
     ]
    }
   ],
   "source": [
    "for i in [12,6,10,9,14]:\n",
    "    print(data.columns[i])\n"
   ]
  },
  {
   "cell_type": "code",
   "execution_count": 6,
   "metadata": {},
   "outputs": [
    {
     "output_type": "stream",
     "name": "stdout",
     "text": [
      "/home/432/qihaoyu/data/CheXpert/CheXpert-v1.0-small/train\n"
     ]
    }
   ],
   "source": [
    "from glob import glob\n",
    "import os\n",
    "from tqdm import tqdm\n",
    "import json\n",
    "import numpy\n",
    "\n",
    "train_data_dict = dict({\"num_classes\":5,\"annotations\":[]})\n",
    "valid_data_dict = dict({\"num_classes\":5,\"annotations\":[]})\n",
    "\n",
    "train_path = data_path/'train'\n",
    "train_path = str(train_path)\n",
    "print(train_path)\n",
    "\n",
    "for filename in glob(train_path+'/*/*/*.jpg',recursive=True):\n",
    "    # print(filename)\n",
    "    meta = dict()\n",
    "    meta[\"path\"] = filename\n",
    "    meta_index = '/'.join(filename.split('/')[6:])\n",
    "    for i in [12,6,10,9,14]:\n",
    "        column = data.columns[i]\n",
    "        meta[column] = data.loc[meta_index,column]\n",
    "        if(type(meta[column])==numpy.int64):\n",
    "            meta[column] = int(meta[column])\n",
    "    train_data_dict['annotations'].append(meta)"
   ]
  },
  {
   "cell_type": "code",
   "execution_count": 10,
   "metadata": {},
   "outputs": [
    {
     "output_type": "stream",
     "name": "stdout",
     "text": [
      "/home/432/qihaoyu/data/CheXpert/CheXpert-v1.0-small/valid\n"
     ]
    }
   ],
   "source": [
    "valid_data = pd.read_csv(data_path/'valid.csv')\n",
    "valid_data = valid_data.fillna('nan')\n",
    "valid_data = valid_data.set_index('Path')\n",
    "\n",
    "valid_path = data_path/'valid'\n",
    "valid_path = str(valid_path)\n",
    "print(valid_path)\n",
    "for filename in glob(valid_path+'/*/*/*.jpg',recursive=True):\n",
    "    meta = dict()\n",
    "    meta[\"path\"] = filename\n",
    "    meta_index = '/'.join(filename.split('/')[6:])\n",
    "    for i in [12,6,10,9,14]:\n",
    "        column = valid_data.columns[i]\n",
    "        meta[column] = valid_data.loc[meta_index,column]\n",
    "        if(type(meta[column])==numpy.int64):\n",
    "            meta[column] = int(meta[column])\n",
    "    valid_data_dict['annotations'].append(meta)"
   ]
  },
  {
   "cell_type": "code",
   "execution_count": 9,
   "metadata": {},
   "outputs": [],
   "source": [
    "with open('CheXpert-small-5cat-train.json','w') as outfile:\n",
    "    json.dump(train_data_dict,outfile)"
   ]
  },
  {
   "cell_type": "code",
   "execution_count": 11,
   "metadata": {},
   "outputs": [],
   "source": [
    "with open('CheXpert-small-5cat-valid.json','w') as outfile:\n",
    "    json.dump(valid_data_dict,outfile)"
   ]
  },
  {
   "cell_type": "code",
   "execution_count": null,
   "metadata": {},
   "outputs": [],
   "source": []
  }
 ]
}