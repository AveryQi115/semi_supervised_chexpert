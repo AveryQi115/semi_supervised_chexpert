{
 "metadata": {
  "language_info": {
   "codemirror_mode": {
    "name": "ipython",
    "version": 3
   },
   "file_extension": ".py",
   "mimetype": "text/x-python",
   "name": "python",
   "nbconvert_exporter": "python",
   "pygments_lexer": "ipython3",
   "version": "3.8.5-final"
  },
  "orig_nbformat": 2,
  "kernelspec": {
   "name": "python38564bitcupyconda41f788893a5d43e79f54915e929b8899",
   "display_name": "Python 3.8.5 64-bit ('cupy': conda)",
   "language": "python"
  }
 },
 "nbformat": 4,
 "nbformat_minor": 2,
 "cells": [
  {
   "cell_type": "code",
   "execution_count": 1,
   "metadata": {},
   "outputs": [],
   "source": [
    "import json"
   ]
  },
  {
   "cell_type": "code",
   "execution_count": 2,
   "metadata": {},
   "outputs": [],
   "source": [
    "with open('ChestRayNIH-train.json','r')as f:\n",
    "    train = json.load(f)"
   ]
  },
  {
   "cell_type": "code",
   "execution_count": 3,
   "metadata": {},
   "outputs": [
    {
     "output_type": "execute_result",
     "data": {
      "text/plain": [
       "                                                path  Pneumothorax  Pneumonia  \\\n",
       "0  /dev/shm/ChestRay14/train/class1/00021552_021.png             0          0   \n",
       "1  /dev/shm/ChestRay14/train/class1/00016514_000.png             0          0   \n",
       "2  /dev/shm/ChestRay14/train/class1/00007109_019.png             0          0   \n",
       "3  /dev/shm/ChestRay14/train/class1/00011891_000.png             0          0   \n",
       "4  /dev/shm/ChestRay14/train/class1/00021499_004.png             0          0   \n",
       "\n",
       "   Pleural_Thickening  Nodule  Mass  Infiltration  Hernia  Fibrosis  \\\n",
       "0                   0       0     0             0       0         0   \n",
       "1                   0       0     0             0       0         0   \n",
       "2                   0       0     0             1       0         0   \n",
       "3                   0       0     0             0       0         0   \n",
       "4                   0       0     0             1       0         0   \n",
       "\n",
       "   Emphysema  Effusion  Edema  Consolidation  Cardiomegaly  Atelectasis  \n",
       "0          0         1      0              0             0            0  \n",
       "1          0         0      0              0             0            0  \n",
       "2          0         0      0              0             0            0  \n",
       "3          0         0      0              0             0            0  \n",
       "4          0         0      0              0             0            0  "
      ],
      "text/html": "<div>\n<style scoped>\n    .dataframe tbody tr th:only-of-type {\n        vertical-align: middle;\n    }\n\n    .dataframe tbody tr th {\n        vertical-align: top;\n    }\n\n    .dataframe thead th {\n        text-align: right;\n    }\n</style>\n<table border=\"1\" class=\"dataframe\">\n  <thead>\n    <tr style=\"text-align: right;\">\n      <th></th>\n      <th>path</th>\n      <th>Pneumothorax</th>\n      <th>Pneumonia</th>\n      <th>Pleural_Thickening</th>\n      <th>Nodule</th>\n      <th>Mass</th>\n      <th>Infiltration</th>\n      <th>Hernia</th>\n      <th>Fibrosis</th>\n      <th>Emphysema</th>\n      <th>Effusion</th>\n      <th>Edema</th>\n      <th>Consolidation</th>\n      <th>Cardiomegaly</th>\n      <th>Atelectasis</th>\n    </tr>\n  </thead>\n  <tbody>\n    <tr>\n      <th>0</th>\n      <td>/dev/shm/ChestRay14/train/class1/00021552_021.png</td>\n      <td>0</td>\n      <td>0</td>\n      <td>0</td>\n      <td>0</td>\n      <td>0</td>\n      <td>0</td>\n      <td>0</td>\n      <td>0</td>\n      <td>0</td>\n      <td>1</td>\n      <td>0</td>\n      <td>0</td>\n      <td>0</td>\n      <td>0</td>\n    </tr>\n    <tr>\n      <th>1</th>\n      <td>/dev/shm/ChestRay14/train/class1/00016514_000.png</td>\n      <td>0</td>\n      <td>0</td>\n      <td>0</td>\n      <td>0</td>\n      <td>0</td>\n      <td>0</td>\n      <td>0</td>\n      <td>0</td>\n      <td>0</td>\n      <td>0</td>\n      <td>0</td>\n      <td>0</td>\n      <td>0</td>\n      <td>0</td>\n    </tr>\n    <tr>\n      <th>2</th>\n      <td>/dev/shm/ChestRay14/train/class1/00007109_019.png</td>\n      <td>0</td>\n      <td>0</td>\n      <td>0</td>\n      <td>0</td>\n      <td>0</td>\n      <td>1</td>\n      <td>0</td>\n      <td>0</td>\n      <td>0</td>\n      <td>0</td>\n      <td>0</td>\n      <td>0</td>\n      <td>0</td>\n      <td>0</td>\n    </tr>\n    <tr>\n      <th>3</th>\n      <td>/dev/shm/ChestRay14/train/class1/00011891_000.png</td>\n      <td>0</td>\n      <td>0</td>\n      <td>0</td>\n      <td>0</td>\n      <td>0</td>\n      <td>0</td>\n      <td>0</td>\n      <td>0</td>\n      <td>0</td>\n      <td>0</td>\n      <td>0</td>\n      <td>0</td>\n      <td>0</td>\n      <td>0</td>\n    </tr>\n    <tr>\n      <th>4</th>\n      <td>/dev/shm/ChestRay14/train/class1/00021499_004.png</td>\n      <td>0</td>\n      <td>0</td>\n      <td>0</td>\n      <td>0</td>\n      <td>0</td>\n      <td>1</td>\n      <td>0</td>\n      <td>0</td>\n      <td>0</td>\n      <td>0</td>\n      <td>0</td>\n      <td>0</td>\n      <td>0</td>\n      <td>0</td>\n    </tr>\n  </tbody>\n</table>\n</div>"
     },
     "metadata": {},
     "execution_count": 3
    }
   ],
   "source": [
    "import pandas as pd\n",
    "\n",
    "anno = pd.DataFrame(train['annotations'])\n",
    "anno.head()"
   ]
  },
  {
   "cell_type": "code",
   "execution_count": 4,
   "metadata": {},
   "outputs": [
    {
     "output_type": "execute_result",
     "data": {
      "text/plain": [
       "                                                    path  Pneumothorax  \\\n",
       "62967  /dev/shm/ChestRay14/train/class1/00023890_000.png             0   \n",
       "22145  /dev/shm/ChestRay14/train/class1/00023311_008.png             0   \n",
       "14739  /dev/shm/ChestRay14/train/class1/00021012_005.png             0   \n",
       "21232  /dev/shm/ChestRay14/train/class1/00023405_000.png             0   \n",
       "45804  /dev/shm/ChestRay14/train/class1/00010690_000.png             0   \n",
       "\n",
       "       Pneumonia  Pleural_Thickening  Nodule  Mass  Infiltration  Hernia  \\\n",
       "62967          0                   0       0     0             0       0   \n",
       "22145          0                   0       0     0             0       0   \n",
       "14739          0                   0       0     0             0       0   \n",
       "21232          0                   0       0     0             0       0   \n",
       "45804          0                   0       0     0             0       0   \n",
       "\n",
       "       Fibrosis  Emphysema  Effusion  Edema  Consolidation  Cardiomegaly  \\\n",
       "62967         0          0         0      0              0             0   \n",
       "22145         0          0         0      0              0             0   \n",
       "14739         0          0         1      0              0             0   \n",
       "21232         0          0         0      0              0             0   \n",
       "45804         0          0         0      0              0             0   \n",
       "\n",
       "       Atelectasis  \n",
       "62967            0  \n",
       "22145            1  \n",
       "14739            0  \n",
       "21232            0  \n",
       "45804            0  "
      ],
      "text/html": "<div>\n<style scoped>\n    .dataframe tbody tr th:only-of-type {\n        vertical-align: middle;\n    }\n\n    .dataframe tbody tr th {\n        vertical-align: top;\n    }\n\n    .dataframe thead th {\n        text-align: right;\n    }\n</style>\n<table border=\"1\" class=\"dataframe\">\n  <thead>\n    <tr style=\"text-align: right;\">\n      <th></th>\n      <th>path</th>\n      <th>Pneumothorax</th>\n      <th>Pneumonia</th>\n      <th>Pleural_Thickening</th>\n      <th>Nodule</th>\n      <th>Mass</th>\n      <th>Infiltration</th>\n      <th>Hernia</th>\n      <th>Fibrosis</th>\n      <th>Emphysema</th>\n      <th>Effusion</th>\n      <th>Edema</th>\n      <th>Consolidation</th>\n      <th>Cardiomegaly</th>\n      <th>Atelectasis</th>\n    </tr>\n  </thead>\n  <tbody>\n    <tr>\n      <th>62967</th>\n      <td>/dev/shm/ChestRay14/train/class1/00023890_000.png</td>\n      <td>0</td>\n      <td>0</td>\n      <td>0</td>\n      <td>0</td>\n      <td>0</td>\n      <td>0</td>\n      <td>0</td>\n      <td>0</td>\n      <td>0</td>\n      <td>0</td>\n      <td>0</td>\n      <td>0</td>\n      <td>0</td>\n      <td>0</td>\n    </tr>\n    <tr>\n      <th>22145</th>\n      <td>/dev/shm/ChestRay14/train/class1/00023311_008.png</td>\n      <td>0</td>\n      <td>0</td>\n      <td>0</td>\n      <td>0</td>\n      <td>0</td>\n      <td>0</td>\n      <td>0</td>\n      <td>0</td>\n      <td>0</td>\n      <td>0</td>\n      <td>0</td>\n      <td>0</td>\n      <td>0</td>\n      <td>1</td>\n    </tr>\n    <tr>\n      <th>14739</th>\n      <td>/dev/shm/ChestRay14/train/class1/00021012_005.png</td>\n      <td>0</td>\n      <td>0</td>\n      <td>0</td>\n      <td>0</td>\n      <td>0</td>\n      <td>0</td>\n      <td>0</td>\n      <td>0</td>\n      <td>0</td>\n      <td>1</td>\n      <td>0</td>\n      <td>0</td>\n      <td>0</td>\n      <td>0</td>\n    </tr>\n    <tr>\n      <th>21232</th>\n      <td>/dev/shm/ChestRay14/train/class1/00023405_000.png</td>\n      <td>0</td>\n      <td>0</td>\n      <td>0</td>\n      <td>0</td>\n      <td>0</td>\n      <td>0</td>\n      <td>0</td>\n      <td>0</td>\n      <td>0</td>\n      <td>0</td>\n      <td>0</td>\n      <td>0</td>\n      <td>0</td>\n      <td>0</td>\n    </tr>\n    <tr>\n      <th>45804</th>\n      <td>/dev/shm/ChestRay14/train/class1/00010690_000.png</td>\n      <td>0</td>\n      <td>0</td>\n      <td>0</td>\n      <td>0</td>\n      <td>0</td>\n      <td>0</td>\n      <td>0</td>\n      <td>0</td>\n      <td>0</td>\n      <td>0</td>\n      <td>0</td>\n      <td>0</td>\n      <td>0</td>\n      <td>0</td>\n    </tr>\n  </tbody>\n</table>\n</div>"
     },
     "metadata": {},
     "execution_count": 4
    }
   ],
   "source": [
    "train_1 = anno.sample(frac=0.01,random_state=0)\n",
    "train_1.head()"
   ]
  },
  {
   "cell_type": "code",
   "execution_count": 5,
   "metadata": {},
   "outputs": [],
   "source": [
    "train_99 = anno.loc[anno.index.difference(train_1.index)]"
   ]
  },
  {
   "cell_type": "code",
   "execution_count": 6,
   "metadata": {},
   "outputs": [
    {
     "output_type": "execute_result",
     "data": {
      "text/plain": [
       "(865, 85658)"
      ]
     },
     "metadata": {},
     "execution_count": 6
    }
   ],
   "source": [
    "len(train_1),len(train_99)"
   ]
  },
  {
   "cell_type": "code",
   "execution_count": 9,
   "metadata": {},
   "outputs": [],
   "source": [
    "train_1_json = {'num_classes':14}\n",
    "anno_1 = train_1.to_dict(orient='records')\n",
    "train_1_json['annotations'] = anno_1"
   ]
  },
  {
   "cell_type": "code",
   "execution_count": 10,
   "metadata": {},
   "outputs": [],
   "source": [
    "with open('ChestRayNIH-train-1.json','w') as f:\n",
    "    json.dump(train_1_json,f)"
   ]
  },
  {
   "cell_type": "code",
   "execution_count": null,
   "metadata": {},
   "outputs": [],
   "source": []
  }
 ]
}